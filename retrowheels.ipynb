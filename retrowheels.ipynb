{
 "cells": [
  {
   "cell_type": "code",
   "execution_count": 1,
   "metadata": {},
   "outputs": [],
   "source": [
    "import mysql.connector\n",
    "import pandas as pd"
   ]
  },
  {
   "cell_type": "code",
   "execution_count": 2,
   "metadata": {},
   "outputs": [],
   "source": [
    "mydb = mysql.connector.connect(\n",
    "    host = 'localhost',\n",
    "    user = 'root',\n",
    "    passwd = '123456',\n",
    "    database = 'retrowheels')"
   ]
  },
  {
   "cell_type": "code",
   "execution_count": 3,
   "metadata": {},
   "outputs": [],
   "source": [
    "def query(query):\n",
    "    kursor = mydb.cursor()\n",
    "    kursor.execute(query)\n",
    "    hasil = kursor.fetchall()\n",
    "    data = pd.DataFrame(data = hasil, columns = kursor.column_names)\n",
    "    return data"
   ]
  },
  {
   "cell_type": "code",
   "execution_count": 4,
   "metadata": {},
   "outputs": [
    {
     "data": {
      "text/html": [
       "<div>\n",
       "<style scoped>\n",
       "    .dataframe tbody tr th:only-of-type {\n",
       "        vertical-align: middle;\n",
       "    }\n",
       "\n",
       "    .dataframe tbody tr th {\n",
       "        vertical-align: top;\n",
       "    }\n",
       "\n",
       "    .dataframe thead th {\n",
       "        text-align: right;\n",
       "    }\n",
       "</style>\n",
       "<table border=\"1\" class=\"dataframe\">\n",
       "  <thead>\n",
       "    <tr style=\"text-align: right;\">\n",
       "      <th></th>\n",
       "      <th>Tables_in_retrowheels</th>\n",
       "    </tr>\n",
       "  </thead>\n",
       "  <tbody>\n",
       "    <tr>\n",
       "      <th>0</th>\n",
       "      <td>customers</td>\n",
       "    </tr>\n",
       "    <tr>\n",
       "      <th>1</th>\n",
       "      <td>employees</td>\n",
       "    </tr>\n",
       "    <tr>\n",
       "      <th>2</th>\n",
       "      <td>offices</td>\n",
       "    </tr>\n",
       "    <tr>\n",
       "      <th>3</th>\n",
       "      <td>orderdetails</td>\n",
       "    </tr>\n",
       "    <tr>\n",
       "      <th>4</th>\n",
       "      <td>orders</td>\n",
       "    </tr>\n",
       "    <tr>\n",
       "      <th>5</th>\n",
       "      <td>payments</td>\n",
       "    </tr>\n",
       "    <tr>\n",
       "      <th>6</th>\n",
       "      <td>productlines</td>\n",
       "    </tr>\n",
       "    <tr>\n",
       "      <th>7</th>\n",
       "      <td>products</td>\n",
       "    </tr>\n",
       "  </tbody>\n",
       "</table>\n",
       "</div>"
      ],
      "text/plain": [
       "  Tables_in_retrowheels\n",
       "0             customers\n",
       "1             employees\n",
       "2               offices\n",
       "3          orderdetails\n",
       "4                orders\n",
       "5              payments\n",
       "6          productlines\n",
       "7              products"
      ]
     },
     "execution_count": 4,
     "metadata": {},
     "output_type": "execute_result"
    }
   ],
   "source": [
    "query(\"show tables\")"
   ]
  },
  {
   "cell_type": "code",
   "execution_count": null,
   "metadata": {},
   "outputs": [],
   "source": []
  },
  {
   "cell_type": "markdown",
   "metadata": {},
   "source": [
    "## jumlah total customer yang Anda layani, beserta jumlah total kota & negara asal customer-customer"
   ]
  },
  {
   "cell_type": "code",
   "execution_count": 5,
   "metadata": {},
   "outputs": [
    {
     "data": {
      "text/html": [
       "<div>\n",
       "<style scoped>\n",
       "    .dataframe tbody tr th:only-of-type {\n",
       "        vertical-align: middle;\n",
       "    }\n",
       "\n",
       "    .dataframe tbody tr th {\n",
       "        vertical-align: top;\n",
       "    }\n",
       "\n",
       "    .dataframe thead th {\n",
       "        text-align: right;\n",
       "    }\n",
       "</style>\n",
       "<table border=\"1\" class=\"dataframe\">\n",
       "  <thead>\n",
       "    <tr style=\"text-align: right;\">\n",
       "      <th></th>\n",
       "      <th>Customers</th>\n",
       "      <th>Cities</th>\n",
       "      <th>Countries</th>\n",
       "    </tr>\n",
       "  </thead>\n",
       "  <tbody>\n",
       "    <tr>\n",
       "      <th>0</th>\n",
       "      <td>122</td>\n",
       "      <td>95</td>\n",
       "      <td>27</td>\n",
       "    </tr>\n",
       "  </tbody>\n",
       "</table>\n",
       "</div>"
      ],
      "text/plain": [
       "   Customers  Cities  Countries\n",
       "0        122      95         27"
      ]
     },
     "execution_count": 5,
     "metadata": {},
     "output_type": "execute_result"
    }
   ],
   "source": [
    "query(\"select count(distinct (customerNumber)) as Customers,count(distinct (city)) as Cities,count(distinct (country)) as Countries from customers\")"
   ]
  },
  {
   "cell_type": "markdown",
   "metadata": {},
   "source": [
    "## jumlah karyawan, jumlah kantor & lokasi negaranya, jumlah barang yang dijual, total stok barang & jumlah vendor yang menjadi partner"
   ]
  },
  {
   "cell_type": "code",
   "execution_count": 6,
   "metadata": {},
   "outputs": [
    {
     "data": {
      "text/html": [
       "<div>\n",
       "<style scoped>\n",
       "    .dataframe tbody tr th:only-of-type {\n",
       "        vertical-align: middle;\n",
       "    }\n",
       "\n",
       "    .dataframe tbody tr th {\n",
       "        vertical-align: top;\n",
       "    }\n",
       "\n",
       "    .dataframe thead th {\n",
       "        text-align: right;\n",
       "    }\n",
       "</style>\n",
       "<table border=\"1\" class=\"dataframe\">\n",
       "  <thead>\n",
       "    <tr style=\"text-align: right;\">\n",
       "      <th></th>\n",
       "      <th>employee</th>\n",
       "      <th>Office</th>\n",
       "      <th>Country</th>\n",
       "      <th>Products</th>\n",
       "      <th>StockProducts</th>\n",
       "      <th>Vendors</th>\n",
       "    </tr>\n",
       "  </thead>\n",
       "  <tbody>\n",
       "    <tr>\n",
       "      <th>0</th>\n",
       "      <td>23</td>\n",
       "      <td>7</td>\n",
       "      <td>5</td>\n",
       "      <td>110</td>\n",
       "      <td>89376091</td>\n",
       "      <td>13</td>\n",
       "    </tr>\n",
       "  </tbody>\n",
       "</table>\n",
       "</div>"
      ],
      "text/plain": [
       "   employee  Office  Country  Products StockProducts  Vendors\n",
       "0        23       7        5       110      89376091       13"
      ]
     },
     "execution_count": 6,
     "metadata": {},
     "output_type": "execute_result"
    }
   ],
   "source": [
    "query('''select count(distinct (e.employeeNumber)) as employee, \n",
    "count(distinct (o.officeCode)) as Office, \n",
    "count(distinct (o.country)) as Country,\n",
    "count(distinct (p.productCode)) as Products,\n",
    "sum(p.quantityInStock) as StockProducts,\n",
    "count(distinct (p.productVendor)) as Vendors\n",
    " from employees e, offices o, products p''')"
   ]
  },
  {
   "cell_type": "markdown",
   "metadata": {},
   "source": [
    "## Dari soal sebelumnya tercatat Anda memiliki 110 model die cast dengan total stok 555131 item. Jika dikategorikan, produk yang Anda jual terbagi menjadi 7 product line die cast, yakni model mobil klasik, mobil vintage, sepeda motor, pesawat terbang, kapal laut, kereta api serta truk & bus. Rumuskan single query yang dapat menampilkan harga produk terendah & tertinggi untuk masing-masing kategori"
   ]
  },
  {
   "cell_type": "code",
   "execution_count": 7,
   "metadata": {},
   "outputs": [
    {
     "data": {
      "text/html": [
       "<div>\n",
       "<style scoped>\n",
       "    .dataframe tbody tr th:only-of-type {\n",
       "        vertical-align: middle;\n",
       "    }\n",
       "\n",
       "    .dataframe tbody tr th {\n",
       "        vertical-align: top;\n",
       "    }\n",
       "\n",
       "    .dataframe thead th {\n",
       "        text-align: right;\n",
       "    }\n",
       "</style>\n",
       "<table border=\"1\" class=\"dataframe\">\n",
       "  <thead>\n",
       "    <tr style=\"text-align: right;\">\n",
       "      <th></th>\n",
       "      <th>productLine</th>\n",
       "      <th>minPrice</th>\n",
       "      <th>maxPrice</th>\n",
       "    </tr>\n",
       "  </thead>\n",
       "  <tbody>\n",
       "    <tr>\n",
       "      <th>0</th>\n",
       "      <td>Classic Cars</td>\n",
       "      <td>15.91</td>\n",
       "      <td>103.42</td>\n",
       "    </tr>\n",
       "    <tr>\n",
       "      <th>1</th>\n",
       "      <td>Motorcycles</td>\n",
       "      <td>24.14</td>\n",
       "      <td>91.02</td>\n",
       "    </tr>\n",
       "    <tr>\n",
       "      <th>2</th>\n",
       "      <td>Planes</td>\n",
       "      <td>29.34</td>\n",
       "      <td>77.27</td>\n",
       "    </tr>\n",
       "    <tr>\n",
       "      <th>3</th>\n",
       "      <td>Ships</td>\n",
       "      <td>33.30</td>\n",
       "      <td>82.34</td>\n",
       "    </tr>\n",
       "    <tr>\n",
       "      <th>4</th>\n",
       "      <td>Trains</td>\n",
       "      <td>26.72</td>\n",
       "      <td>67.56</td>\n",
       "    </tr>\n",
       "    <tr>\n",
       "      <th>5</th>\n",
       "      <td>Trucks and Buses</td>\n",
       "      <td>24.92</td>\n",
       "      <td>84.76</td>\n",
       "    </tr>\n",
       "    <tr>\n",
       "      <th>6</th>\n",
       "      <td>Vintage Cars</td>\n",
       "      <td>20.61</td>\n",
       "      <td>86.70</td>\n",
       "    </tr>\n",
       "  </tbody>\n",
       "</table>\n",
       "</div>"
      ],
      "text/plain": [
       "        productLine minPrice maxPrice\n",
       "0      Classic Cars    15.91   103.42\n",
       "1       Motorcycles    24.14    91.02\n",
       "2            Planes    29.34    77.27\n",
       "3             Ships    33.30    82.34\n",
       "4            Trains    26.72    67.56\n",
       "5  Trucks and Buses    24.92    84.76\n",
       "6      Vintage Cars    20.61    86.70"
      ]
     },
     "execution_count": 7,
     "metadata": {},
     "output_type": "execute_result"
    }
   ],
   "source": [
    "query('select distinct(productLine), min(buyPrice) as minPrice, max(buyPrice) as maxPrice from products group by productLine')"
   ]
  },
  {
   "cell_type": "markdown",
   "metadata": {},
   "source": [
    "## Rumuskan single query yang dapat menampilkan daftar 10 customer paling royal (paling banyak mendatangkan uang bagi kita), yang total nominal transaksinya paling tinggi. Data yang ditampilkan adalah nama customer, kota & negara asal, beserta total uang yang dihabiskan di produk kita"
   ]
  },
  {
   "cell_type": "code",
   "execution_count": 8,
   "metadata": {},
   "outputs": [
    {
     "data": {
      "text/html": [
       "<div>\n",
       "<style scoped>\n",
       "    .dataframe tbody tr th:only-of-type {\n",
       "        vertical-align: middle;\n",
       "    }\n",
       "\n",
       "    .dataframe tbody tr th {\n",
       "        vertical-align: top;\n",
       "    }\n",
       "\n",
       "    .dataframe thead th {\n",
       "        text-align: right;\n",
       "    }\n",
       "</style>\n",
       "<table border=\"1\" class=\"dataframe\">\n",
       "  <thead>\n",
       "    <tr style=\"text-align: right;\">\n",
       "      <th></th>\n",
       "      <th>customerName</th>\n",
       "      <th>city</th>\n",
       "      <th>country</th>\n",
       "      <th>total</th>\n",
       "    </tr>\n",
       "  </thead>\n",
       "  <tbody>\n",
       "    <tr>\n",
       "      <th>0</th>\n",
       "      <td>Euro+ Shopping Channel</td>\n",
       "      <td>Madrid</td>\n",
       "      <td>Spain</td>\n",
       "      <td>715738.98</td>\n",
       "    </tr>\n",
       "    <tr>\n",
       "      <th>1</th>\n",
       "      <td>Mini Gifts Distributors Ltd.</td>\n",
       "      <td>San Rafael</td>\n",
       "      <td>USA</td>\n",
       "      <td>584188.24</td>\n",
       "    </tr>\n",
       "    <tr>\n",
       "      <th>2</th>\n",
       "      <td>Australian Collectors, Co.</td>\n",
       "      <td>Melbourne</td>\n",
       "      <td>Australia</td>\n",
       "      <td>180585.07</td>\n",
       "    </tr>\n",
       "    <tr>\n",
       "      <th>3</th>\n",
       "      <td>Muscle Machine Inc</td>\n",
       "      <td>NYC</td>\n",
       "      <td>USA</td>\n",
       "      <td>177913.95</td>\n",
       "    </tr>\n",
       "    <tr>\n",
       "      <th>4</th>\n",
       "      <td>Dragon Souveniers, Ltd.</td>\n",
       "      <td>Singapore</td>\n",
       "      <td>Singapore</td>\n",
       "      <td>156251.03</td>\n",
       "    </tr>\n",
       "    <tr>\n",
       "      <th>5</th>\n",
       "      <td>Down Under Souveniers, Inc</td>\n",
       "      <td>Auckland</td>\n",
       "      <td>New Zealand</td>\n",
       "      <td>154622.08</td>\n",
       "    </tr>\n",
       "    <tr>\n",
       "      <th>6</th>\n",
       "      <td>AV Stores, Co.</td>\n",
       "      <td>Manchester</td>\n",
       "      <td>UK</td>\n",
       "      <td>148410.09</td>\n",
       "    </tr>\n",
       "    <tr>\n",
       "      <th>7</th>\n",
       "      <td>Anna's Decorations, Ltd</td>\n",
       "      <td>North Sydney</td>\n",
       "      <td>Australia</td>\n",
       "      <td>137034.22</td>\n",
       "    </tr>\n",
       "    <tr>\n",
       "      <th>8</th>\n",
       "      <td>Corporate Gift Ideas Co.</td>\n",
       "      <td>San Francisco</td>\n",
       "      <td>USA</td>\n",
       "      <td>132340.78</td>\n",
       "    </tr>\n",
       "    <tr>\n",
       "      <th>9</th>\n",
       "      <td>Saveley &amp; Henriot, Co.</td>\n",
       "      <td>Lyon</td>\n",
       "      <td>France</td>\n",
       "      <td>130305.35</td>\n",
       "    </tr>\n",
       "  </tbody>\n",
       "</table>\n",
       "</div>"
      ],
      "text/plain": [
       "                   customerName           city      country      total\n",
       "0        Euro+ Shopping Channel         Madrid        Spain  715738.98\n",
       "1  Mini Gifts Distributors Ltd.     San Rafael          USA  584188.24\n",
       "2    Australian Collectors, Co.      Melbourne    Australia  180585.07\n",
       "3            Muscle Machine Inc            NYC          USA  177913.95\n",
       "4       Dragon Souveniers, Ltd.      Singapore    Singapore  156251.03\n",
       "5    Down Under Souveniers, Inc     Auckland    New Zealand  154622.08\n",
       "6                AV Stores, Co.     Manchester           UK  148410.09\n",
       "7       Anna's Decorations, Ltd   North Sydney    Australia  137034.22\n",
       "8      Corporate Gift Ideas Co.  San Francisco          USA  132340.78\n",
       "9        Saveley & Henriot, Co.           Lyon       France  130305.35"
      ]
     },
     "execution_count": 8,
     "metadata": {},
     "output_type": "execute_result"
    }
   ],
   "source": [
    "query('''select c.customerName, c.city, c.country, sum(p.amount) as total from customers c, payments p where c.customerNumber = p.customerNumber\n",
    " group by c.customerName order by total desc limit 10''')"
   ]
  },
  {
   "cell_type": "markdown",
   "metadata": {},
   "source": [
    "## Pada 2003-06-05, terdapat pembayaran masuk sebesar US dollar 14571.44. Tampilkan data seputar transaksi tersebut, mencakup nama customer yang melakukan pembayaran, nama produk yang dibeli, jumlah tiap produk yang dibeli dan harga satuannya. Pastikan total harga yang dibeli sesuai dengan data pembayaran masuk"
   ]
  },
  {
   "cell_type": "code",
   "execution_count": 9,
   "metadata": {},
   "outputs": [
    {
     "data": {
      "text/html": [
       "<div>\n",
       "<style scoped>\n",
       "    .dataframe tbody tr th:only-of-type {\n",
       "        vertical-align: middle;\n",
       "    }\n",
       "\n",
       "    .dataframe tbody tr th {\n",
       "        vertical-align: top;\n",
       "    }\n",
       "\n",
       "    .dataframe thead th {\n",
       "        text-align: right;\n",
       "    }\n",
       "</style>\n",
       "<table border=\"1\" class=\"dataframe\">\n",
       "  <thead>\n",
       "    <tr style=\"text-align: right;\">\n",
       "      <th></th>\n",
       "      <th>customerName</th>\n",
       "      <th>productName</th>\n",
       "      <th>quantityOrdered</th>\n",
       "      <th>priceEach</th>\n",
       "    </tr>\n",
       "  </thead>\n",
       "  <tbody>\n",
       "    <tr>\n",
       "      <th>0</th>\n",
       "      <td>Atelier graphique</td>\n",
       "      <td>1965 Aston Martin DB5</td>\n",
       "      <td>26</td>\n",
       "      <td>120.71</td>\n",
       "    </tr>\n",
       "    <tr>\n",
       "      <th>1</th>\n",
       "      <td>Atelier graphique</td>\n",
       "      <td>1999 Indy 500 Monte Carlo SS</td>\n",
       "      <td>46</td>\n",
       "      <td>114.84</td>\n",
       "    </tr>\n",
       "    <tr>\n",
       "      <th>2</th>\n",
       "      <td>Atelier graphique</td>\n",
       "      <td>1948 Porsche Type 356 Roadster</td>\n",
       "      <td>34</td>\n",
       "      <td>117.26</td>\n",
       "    </tr>\n",
       "    <tr>\n",
       "      <th>3</th>\n",
       "      <td>Atelier graphique</td>\n",
       "      <td>1966 Shelby Cobra 427 S/C</td>\n",
       "      <td>50</td>\n",
       "      <td>43.27</td>\n",
       "    </tr>\n",
       "  </tbody>\n",
       "</table>\n",
       "</div>"
      ],
      "text/plain": [
       "        customerName                     productName  quantityOrdered  \\\n",
       "0  Atelier graphique           1965 Aston Martin DB5               26   \n",
       "1  Atelier graphique    1999 Indy 500 Monte Carlo SS               46   \n",
       "2  Atelier graphique  1948 Porsche Type 356 Roadster               34   \n",
       "3  Atelier graphique       1966 Shelby Cobra 427 S/C               50   \n",
       "\n",
       "  priceEach  \n",
       "0    120.71  \n",
       "1    114.84  \n",
       "2    117.26  \n",
       "3     43.27  "
      ]
     },
     "execution_count": 9,
     "metadata": {},
     "output_type": "execute_result"
    }
   ],
   "source": [
    "query(''' select c.customerName, p.productName, od.quantityOrdered, od.priceEach\n",
    " from customers c, orderdetails od, orders o, products p, payments pa\n",
    " where od.orderNumber = o.orderNumber and c.customerNumber = o.customerNumber and od.productCode = p.productCode and pa.paymentDate = '2003-06-05' limit 4''')"
   ]
  },
  {
   "cell_type": "code",
   "execution_count": null,
   "metadata": {},
   "outputs": [],
   "source": []
  }
 ],
 "metadata": {
  "kernelspec": {
   "display_name": "Python 3",
   "language": "python",
   "name": "python3"
  },
  "language_info": {
   "codemirror_mode": {
    "name": "ipython",
    "version": 3
   },
   "file_extension": ".py",
   "mimetype": "text/x-python",
   "name": "python",
   "nbconvert_exporter": "python",
   "pygments_lexer": "ipython3",
   "version": "3.8.3"
  }
 },
 "nbformat": 4,
 "nbformat_minor": 4
}
